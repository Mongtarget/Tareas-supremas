{
  "nbformat": 4,
  "nbformat_minor": 0,
  "metadata": {
    "colab": {
      "provenance": [],
      "authorship_tag": "ABX9TyP7ft48z7BMu5SOWKseP9Bw",
      "include_colab_link": true
    },
    "kernelspec": {
      "name": "python3",
      "display_name": "Python 3"
    },
    "language_info": {
      "name": "python"
    }
  },
  "cells": [
    {
      "cell_type": "markdown",
      "metadata": {
        "id": "view-in-github",
        "colab_type": "text"
      },
      "source": [
        "<a href=\"https://colab.research.google.com/github/Mongtarget/Tareas-supremas/blob/main/GU%C3%8DA_DE_APLICACI%C3%93N_N%C2%B0_6_TAD_PILA.ipynb\" target=\"_parent\"><img src=\"https://colab.research.google.com/assets/colab-badge.svg\" alt=\"Open In Colab\"/></a>"
      ]
    },
    {
      "cell_type": "code",
      "execution_count": null,
      "metadata": {
        "colab": {
          "base_uri": "https://localhost:8080/"
        },
        "id": "tP74eiM0JjC_",
        "outputId": "2d1276d1-b8f8-4ab0-f7fa-066503056c94"
      },
      "outputs": [
        {
          "output_type": "stream",
          "name": "stdout",
          "text": [
            "Pila:\n",
            "['a', 'b', 'c']\n",
            "\n",
            "Elementos retirados de la pila:\n",
            "c\n",
            "b\n",
            "a\n",
            "\n",
            "Pila después de retirar los elementos:\n",
            "[]\n"
          ]
        }
      ],
      "source": [
        "# 1. Implementación de una Pila usando Arreglos (Opción A)\n",
        "\n",
        "stack = []\n",
        "\n",
        "# append() función para insertar el elemento en la pila (push)\n",
        "stack.append('a')\n",
        "stack.append('b')\n",
        "stack.append('c')\n",
        "\n",
        "print('Pila:')\n",
        "print(stack)\n",
        "\n",
        "# Función para eliminar un elemento de la pila en el orden LIFO (pop)\n",
        "print('\\nElementos retirados de la pila:')\n",
        "print(stack.pop())\n",
        "print(stack.pop())\n",
        "print(stack.pop())\n",
        "\n",
        "print('\\nPila después de retirar los elementos:')\n",
        "print(stack)"
      ]
    },
    {
      "cell_type": "code",
      "source": [
        "# 1. Implementación de una Pila usando Arreglos (Opción B)\n",
        "\n",
        "class PilaArreglo:\n",
        "    def __init__(self, capacidad_maxima):\n",
        "        self.capacidad_maxima = capacidad_maxima\n",
        "        self.arreglo = [None] * capacidad_maxima\n",
        "        self.tamano = 0\n",
        "\n",
        "    def es_vacia(self):\n",
        "        return self.tamano == 0\n",
        "\n",
        "    def esta_llena(self):\n",
        "        return self.tamano == self.capacidad_maxima\n",
        "\n",
        "    def apilar(self, elemento):\n",
        "        if self.esta_llena():\n",
        "            print(\"La pila está llena. No se puede apilar más elementos.\")\n",
        "        else:\n",
        "            self.arreglo[self.tamano] = elemento\n",
        "            self.tamano += 1\n",
        "\n",
        "    def desapilar(self):\n",
        "        if self.es_vacia():\n",
        "            print(\"La pila está vacía. No se puede desapilar.\")\n",
        "            return None\n",
        "        else:\n",
        "            self.tamano -= 1\n",
        "            elemento_desapilado = self.arreglo[self.tamano]\n",
        "            self.arreglo[self.tamano] = None\n",
        "            return elemento_desapilado\n",
        "\n",
        "    def cima(self):\n",
        "        if self.es_vacia():\n",
        "            print(\"La pila está vacía. No hay elementos en la cima.\")\n",
        "            return None\n",
        "        else:\n",
        "            return self.arreglo[self.tamano - 1]\n",
        "\n",
        "    def tamano_pila(self):\n",
        "        return self.tamano\n",
        "\n",
        "# Ejemplo de uso\n",
        "pila = PilaArreglo(5)\n",
        "\n",
        "pila.apilar(1)\n",
        "pila.apilar(2)\n",
        "pila.apilar(3)\n",
        "\n",
        "print(\"Cima de la pila:\", pila.cima())\n",
        "print(\"Tamaño de la pila:\", pila.tamano_pila())\n",
        "\n",
        "elemento_desapilado = pila.desapilar()\n",
        "print(\"Elemento desapilado:\", elemento_desapilado)\n",
        "print(\"Tamaño de la pila después de desapilar:\", pila.tamano_pila())"
      ],
      "metadata": {
        "colab": {
          "base_uri": "https://localhost:8080/"
        },
        "id": "342_rwrGJ_mo",
        "outputId": "bcbe8228-0403-4a39-9921-ed18aa1d64a9"
      },
      "execution_count": null,
      "outputs": [
        {
          "output_type": "stream",
          "name": "stdout",
          "text": [
            "Cima de la pila: 3\n",
            "Tamaño de la pila: 3\n",
            "Elemento desapilado: 3\n",
            "Tamaño de la pila después de desapilar: 2\n"
          ]
        }
      ]
    },
    {
      "cell_type": "code",
      "source": [
        "# 2.Implementación de una Pila utilizando Listas Enlazadas\n",
        "class Node:\n",
        "    def __init__(self, value):\n",
        "        self.value = value\n",
        "        self.next = None\n",
        "\n",
        "class Stack:\n",
        "    # Inicializando una Pila.\n",
        "    def __init__(self):\n",
        "        self.head = Node(\"Inicio\")\n",
        "        self.size = 0\n",
        "\n",
        "    # Representación de cadena de la Pila\n",
        "    def __str__(self):\n",
        "        cur = self.head.next\n",
        "        out = \"\"\n",
        "        while cur:\n",
        "            out += str(cur.value) + \"->\"\n",
        "            cur = cur.next\n",
        "        return out[:-2]\n",
        "\n",
        "    # Tamaño actual de la Pila\n",
        "    def getSize(self):\n",
        "        return self.size\n",
        "\n",
        "    # Verificar si la Pila está vacía\n",
        "    def isEmpty(self):\n",
        "        return self.size == 0\n",
        "\n",
        "    # Obtener el elemento de encima de la Pila.\n",
        "    def peek(self):\n",
        "        # Si la pila está vacía, genera una excepción\n",
        "        if self.isEmpty():\n",
        "            raise Exception(\"La Pila está vacía\")\n",
        "        return self.head.next.value\n",
        "\n",
        "    # Inserta un elemento en la Pila.\n",
        "    def push(self, value):\n",
        "        node = Node(value)\n",
        "        node.next = self.head.next\n",
        "        self.head.next = node\n",
        "        self.size += 1\n",
        "\n",
        "    # Elimina un elemento de la Pila.\n",
        "    def pop(self):\n",
        "        # Si la pila está vacía, genera una excepción\n",
        "        if self.isEmpty():\n",
        "            raise Exception(\"No hay elemento que eliminar en una Pila vacía\")\n",
        "        remove = self.head.next\n",
        "        self.head.next = self.head.next.next\n",
        "        self.size -= 1\n",
        "        return remove.value\n",
        "\n",
        "# Ejemplo de uso\n",
        "stack = Stack()\n",
        "for i in range(1, 11):\n",
        "    stack.push(i)\n",
        "print(f\"Pila: {stack}\")\n",
        "\n",
        "for _ in range(1, 6):\n",
        "    remove = stack.pop()\n",
        "    print(f\"Pop: {remove}\")\n",
        "print(f\"Pila: {stack}\")"
      ],
      "metadata": {
        "colab": {
          "base_uri": "https://localhost:8080/"
        },
        "id": "d7Q80ErjKQQo",
        "outputId": "54f3be6a-50a1-4889-b18c-b43a84556006"
      },
      "execution_count": null,
      "outputs": [
        {
          "output_type": "stream",
          "name": "stdout",
          "text": [
            "Pila: 10->9->8->7->6->5->4->3->2->1\n",
            "Pop: 10\n",
            "Pop: 9\n",
            "Pop: 8\n",
            "Pop: 7\n",
            "Pop: 6\n",
            "Pila: 5->4->3->2->1\n"
          ]
        }
      ]
    },
    {
      "cell_type": "code",
      "source": [
        "# Escriba una rutina que reciba una Pila P de números enteros y mueva sus elementos\n",
        "# a una nueva NPila, pero manteniendo el orden de salida de los mismos. Al finalizar\n",
        "# la Pila P no debe contener elementos.\n",
        "class Node:\n",
        "    def __init__(self, value):\n",
        "        self.value = value\n",
        "        self.next = None\n",
        "\n",
        "class Stack:\n",
        "    def __init__(self):\n",
        "        self.head = Node(\"Inicio\")\n",
        "        self.size = 0\n",
        "\n",
        "    def __str__(self):\n",
        "        cur = self.head.next\n",
        "        out = \"\"\n",
        "        while cur:\n",
        "            out += str(cur.value) + \" -> \"\n",
        "            cur = cur.next\n",
        "        return out[:-4] if out else \"Pila Vacía\"\n",
        "\n",
        "    def getSize(self):\n",
        "        return self.size\n",
        "\n",
        "    def isEmpty(self):\n",
        "        return self.size == 0\n",
        "\n",
        "    def peek(self):\n",
        "        if self.isEmpty():\n",
        "            raise Exception(\"La Pila está vacía\")\n",
        "        return self.head.next.value\n",
        "\n",
        "    def push(self, value):\n",
        "        node = Node(value)\n",
        "        node.next = self.head.next\n",
        "        self.head.next = node\n",
        "        self.size += 1\n",
        "\n",
        "    def pop(self):\n",
        "        if self.isEmpty():\n",
        "            raise Exception(\"No hay elemento que eliminar en una Pila vacía\")\n",
        "        remove = self.head.next\n",
        "        self.head.next = self.head.next.next\n",
        "        self.size -= 1\n",
        "        return remove.value\n",
        "\n",
        "def mover_pila_manteniedo_orden(P: Stack) -> Stack:\n",
        "    NPila = Stack()\n",
        "    PilaAux = Stack()\n",
        "\n",
        "    while not P.isEmpty():\n",
        "        elemento = P.pop()\n",
        "        PilaAux.push(elemento)\n",
        "\n",
        "    while not PilaAux.isEmpty():\n",
        "        elemento = PilaAux.pop()\n",
        "        NPila.push(elemento)\n",
        "\n",
        "    return NPila\n",
        "\n",
        "if __name__ == \"__main__\":\n",
        "    P = Stack()\n",
        "    P.push(10)\n",
        "    P.push(20)\n",
        "    P.push(30)\n",
        "    P.push(40)\n",
        "\n",
        "    print(\"--- ESTADO INICIAL ---\")\n",
        "    print(f\"Pila Original (P): {P}\")\n",
        "    print(f\"El próximo elemento en salir de P sería: {P.peek()}\")\n",
        "    print(\"-\" * 35)\n",
        "\n",
        "    NPila = mover_pila_manteniedo_orden(P)\n",
        "\n",
        "    print(\"\\n--- ESTADO FINAL ---\")\n",
        "    print(f\"¿La Pila Original (P) está vacía ahora?: {P.isEmpty()}\")\n",
        "    print(f\"Contenido de P: {P}\\n\")\n",
        "\n",
        "    print(f\"Nueva Pila (NPila): {NPila}\")\n",
        "    print(f\"El próximo elemento en salir de NPila es: {NPila.peek()}\")\n",
        "    print(\"-\" * 35)\n",
        "\n",
        "    print(\"\\n--- COMPROBANDO ORDEN DE SALIDA DE NPila ---\")\n",
        "    print(\"Extrayendo elementos de NPila:\")\n",
        "    while not NPila.isEmpty():\n",
        "        print(f\"Pop -> {NPila.pop()}\")"
      ],
      "metadata": {
        "colab": {
          "base_uri": "https://localhost:8080/"
        },
        "id": "b1Wkcp2xMVQE",
        "outputId": "c8eb6b76-470f-4b1b-afaa-32be3d876bc9"
      },
      "execution_count": null,
      "outputs": [
        {
          "output_type": "stream",
          "name": "stdout",
          "text": [
            "--- ESTADO INICIAL ---\n",
            "Pila Original (P): 40 -> 30 -> 20 -> 10\n",
            "El próximo elemento en salir de P sería: 40\n",
            "-----------------------------------\n",
            "\n",
            "--- ESTADO FINAL ---\n",
            "¿La Pila Original (P) está vacía ahora?: True\n",
            "Contenido de P: Pila Vacía\n",
            "\n",
            "Nueva Pila (NPila): 40 -> 30 -> 20 -> 10\n",
            "El próximo elemento en salir de NPila es: 40\n",
            "-----------------------------------\n",
            "\n",
            "--- COMPROBANDO ORDEN DE SALIDA DE NPila ---\n",
            "Extrayendo elementos de NPila:\n",
            "Pop -> 40\n",
            "Pop -> 30\n",
            "Pop -> 20\n",
            "Pop -> 10\n"
          ]
        }
      ]
    }
  ]
}